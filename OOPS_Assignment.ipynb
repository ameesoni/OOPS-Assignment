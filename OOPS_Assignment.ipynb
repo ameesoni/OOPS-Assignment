{
  "nbformat": 4,
  "nbformat_minor": 0,
  "metadata": {
    "colab": {
      "provenance": []
    },
    "kernelspec": {
      "name": "python3",
      "display_name": "Python 3"
    },
    "language_info": {
      "name": "python"
    }
  },
  "cells": [
    {
      "cell_type": "markdown",
      "source": [
        "### Python OOPS Assignment"
      ],
      "metadata": {
        "id": "5chaNs1N7kjr"
      }
    },
    {
      "cell_type": "markdown",
      "source": [
        "1. What is Object-Oriented Programming (OOP)?\n",
        "- Object-Oriented Programming (OOP) is a programming paradigm based on the concept of objects, which are instances of classes. These objects encapsulate data (attributes) and behavior (methods), making it easier to structure and manage complex programs.\n",
        "- Key Concepts of OOP\n",
        "  - Class:\n",
        "    - A blueprint for creating objects.\n",
        "    - Defines the structure (attributes) and behavior (methods) of objects.\n",
        "  - Object: An instance of a class.\n",
        "  - Encapsulation:\n",
        "    - Bundling of data and methods into a single unit (class).\n",
        "    - Provides controlled access to data through methods (getters/setters).\n",
        "  - Inheritance:\n",
        "    - Allows one class (child class) to inherit attributes and methods from another (parent class).\n",
        "    - Promotes code reuse.\n",
        "  - Polymorphism:\n",
        "    - Enables methods to perform different tasks based on the object that calls them.\n",
        "  - Abstraction:\n",
        "    - Hiding complex implementation details and showing only essential features.\n",
        "    - Achieved through abstract classes or interfaces.\n",
        "- Benefits of OOP\n",
        "  - Modularity: Code can be divided into reusable classes.\n",
        "  - Scalability: Easier to manage and expand.\n",
        "  - Maintainability: Changes in one part of a program have minimal impact on others.\n",
        "  - Reusability: Inheritance and modular design encourage code reuse.\n",
        "- OOP is widely used in programming languages like Python, Java, C++, and Ruby."
      ],
      "metadata": {
        "id": "GM1RLLYb7qxf"
      }
    },
    {
      "cell_type": "markdown",
      "source": [
        "2. What is a class in OOP?\n",
        "- A class in Object-Oriented Programming (OOP) is a blueprint or template used to create objects. It defines the structure and behavior that the objects created from the class will have. The structure is represented by attributes (data), and the behavior is represented by methods (functions).\n",
        "\n",
        "- Key Features of a Class\n",
        "  - Attributes (Data Members):\n",
        "    - Variables defined in a class that store information about an object.\n",
        "    - Example: name, age in a Person class.\n",
        "\n",
        "  - Methods:\n",
        "    - Functions defined in a class that define the behavior of an object.\n",
        "    - Example: speak(), walk() in a Person class.\n",
        "  - Constructors:\n",
        "    - Special methods used to initialize objects.\n",
        "    - Example: The __init__ method in Python is a constructor.\n",
        "  - Encapsulation:\n",
        "    - A class bundles data and the methods that operate on the data into a single unit.\n",
        "- Why Use Classes?\n",
        "  - To group related data and behavior into a single unit.\n",
        "  - To promote code reuse and modularity.\n",
        "  - To model real-world entities more effectively in programming.\n",
        "- Classes are fundamental to OOP and serve as the building blocks for creating objects and designing complex systems."
      ],
      "metadata": {
        "id": "MopmDDj983P4"
      }
    },
    {
      "cell_type": "markdown",
      "source": [
        "3. What is an object in OOP?\n",
        "- An object in Object-Oriented Programming (OOP) is an instance of a class. It is a concrete realization of the class blueprint that encapsulates data (attributes) and behavior (methods). Objects are the building blocks of an OOP-based program.\n",
        "\n",
        "- Characteristics of an Object\n",
        "- State:\n",
        "\n",
        "  - Defined by the values of its attributes.\n",
        "  - Example: A car's state can include its color, brand, and model.\n",
        "- Behavior:\n",
        "  - Defined by the methods it can perform.\n",
        "  - Example: A car can start(), drive(), or stop().\n",
        "- Identity:\n",
        "  - Every object has a unique identity (memory address), distinguishing it from other objects.\n",
        "- Key Points About Objects\n",
        "  - Instance of a Class:\n",
        "Objects are created using the class blueprint, inheriting its structure and behavior.\n",
        "Example: car1 and car2 are instances of the Car class.\n",
        "- Encapsulation:Objects encapsulate data (attributes) and methods that operate on the data.\n",
        "- Multiple Objects: You can create multiple objects from a single class, each with its own unique state.\n",
        "- Interacting with Objects: Objects communicate and interact with one another by calling methods and sharing data."
      ],
      "metadata": {
        "id": "bXRodqul90RH"
      }
    },
    {
      "cell_type": "markdown",
      "source": [
        "4. What is the difference between abstraction and encapsulation?\n",
        "- Abstraction and Encapsulation are both key concepts in Object-Oriented Programming (OOP), but they serve different purposes and focus on distinct aspects of software design.\n",
        "- Abstraction\n",
        "  - Definition:\n",
        "Abstraction focuses on hiding implementation details and exposing only the essential features of an object or a system.\n",
        "\n",
        "  - Purpose:\n",
        "To provide a clear and simplified interface to the user, hiding the complexity behind the scenes.\n",
        "\n",
        "  - How it Works:\n",
        "Achieved using abstract classes, interfaces, or method overriding.\n",
        "It allows developers to focus on what an object does rather than how it does it.\n",
        "  - Example:\n",
        "Think of a TV remote control:\n",
        "The remote allows you to increase volume or change channels (essential features).\n",
        "The internal circuitry and working of the remote are hidden from the user.\n",
        "\n",
        "- Encapsulation\n",
        "  - Definition:\n",
        "Encapsulation focuses on bundling data (attributes) and the methods that operate on the data into a single unit (class) and restricting direct access to some of the object's components.\n",
        "\n",
        "  - Purpose:\n",
        "To protect the data and ensure controlled access through getter and setter methods, thereby maintaining data integrity and security.\n",
        "\n",
        "  - How it Works:\n",
        "Achieved by defining private or protected attributes and using public methods to access or modify them.\n",
        "It hides the internal state of an object from the outside world.\n",
        "  - Example: Think of a bank account:\n",
        "The balance is hidden (private), and you can access or modify it only through secure methods like deposit() or withdraw().\n",
        "- Abstraction is like a car's dashboard: you can drive the car without knowing how the engine works.\n",
        "- Encapsulation is like the car's engine: it's hidden and protected under the hood, and you can interact with it only through specific controls.\n",
        "- Both abstraction and encapsulation work together to create secure, maintainable, and efficient software systems."
      ],
      "metadata": {
        "id": "09ZEyn60-rTv"
      }
    },
    {
      "cell_type": "markdown",
      "source": [
        "5. What are dunder methods in Python?\n",
        "- Dunder methods (short for \"double underscore methods\") in Python, also known as magic methods or special methods, are predefined methods with double underscores at the beginning and end of their names. These methods are automatically invoked in specific situations and allow objects to interact with Python's built-in functionality.\n",
        "\n",
        "- Why Use Dunder Methods?\n",
        "  - To define custom behavior for built-in operations (e.g., addition, string representation).\n",
        "  - To make your classes more Pythonic by integrating seamlessly with Python's syntax and features.\n",
        "  - To implement operator overloading and other advanced functionalities.\n",
        "- Benefits of Using Dunder Methods\n",
        "  - Customization: Allow objects to behave like built-in types.\n",
        "  - Integration: Provide compatibility with Python's standard library and features.\n",
        "  - Readability: Enable intuitive and readable code.\n",
        "- Dunder methods help create rich and flexible classes that integrate seamlessly into Python programs."
      ],
      "metadata": {
        "id": "bbSCm2m2_he3"
      }
    },
    {
      "cell_type": "markdown",
      "source": [
        "6. Explain the concept of inheritance in OOP\n",
        "- Inheritance is a mechanism that allows a class (called the child class or subclass) to acquire the attributes and methods of another class (called the parent class or superclass). This promotes code reuse and establishes a relationship between classes.\n",
        "- Key Features of Inheritance\n",
        "  - Code Reusability:\n",
        "A subclass can use the methods and attributes of its parent class, avoiding code duplication.\n",
        "  - Extensibility:\n",
        "  Subclasses can extend or override the functionality of the parent class.\n",
        "  - Hierarchy:\n",
        "It helps establish a hierarchical relationship between classes, representing \"is-a\" relationships (e.g., a Dog is-a Animal).\n",
        "-  Types of inheritance:\n",
        "  - Single inheritance\n",
        "  - Multiple in heritance\n",
        "  - Multilevel inheritance\n",
        "  - Hierarchial Inheritance\n",
        "  - Hybrid inheritance\n",
        "- Advantages of Inheritance\n",
        "  - Code Reuse: Eliminates redundancy by reusing code from the parent class.\n",
        "  - Extensibility: Allows modification and extension of existing code without altering it.\n",
        "  - Organized Code: Establishes relationships between classes, making code more logical and easier to understand.\n",
        "  "
      ],
      "metadata": {
        "id": "LQIUc5_Rk4AX"
      }
    },
    {
      "cell_type": "markdown",
      "source": [
        "7. What is polymorphism in OOP?\n",
        "- Polymorphism is the ability of an object to take on many forms. It allows the same interface to be used for different underlying data types. In simpler terms, polymorphism enables objects of different classes to respond to the same method or operation in their own unique way.\n",
        "- Types of Polymorphism\n",
        "  - Compile-Time Polymorphism (Static Binding):\n",
        "Achieved through method overloading (having multiple methods with the same name but different parameters) or operator overloading.\n",
        "Example: Python does not support method overloading explicitly but allows flexible method definitions using default or variable-length arguments.\n",
        "  - Run-Time Polymorphism (Dynamic Binding):\n",
        "Achieved through method overriding, where a subclass provides a specific implementation of a method already defined in its superclass.\n",
        "Example: Python supports run-time polymorphism extensively.\n",
        "- Advantages of Polymorphism\n",
        "  - Flexibility: Write generic code that works with objects of multiple types.\n",
        "  - Reusability: Reuse existing code for new functionalities without modification.\n",
        "  - Extensibility: Add new functionality or types without altering existing code.\n",
        "- Polymorphism enhances the flexibility and maintainability of object-oriented systems by allowing objects to be treated as instances of their parent class while enabling specific behavior for each subclass. It is a cornerstone of OOP, along with inheritance and encapsulation.\n",
        "\n",
        "\n",
        "\n",
        "\n",
        "\n",
        "\n"
      ],
      "metadata": {
        "id": "oT4OtZbfeZuw"
      }
    },
    {
      "cell_type": "markdown",
      "source": [
        "8. How is encapsulation achieved in Python?\n",
        "- Encapsulation in Python is achieved through data hiding and by defining access to an object's attributes and methods. It involves restricting direct access to certain attributes (variables) and ensuring that they are accessed or modified through controlled mechanisms like methods.\n",
        "\n",
        "- Python uses the following mechanisms to achieve encapsulation:\n",
        "\n",
        "  - Access Modifiers: Attributes and methods can be marked as:\n",
        "   - Public: Accessible from anywhere.\n",
        "    - Protected: Indicated by a single underscore _, accessible within the class and subclasses.\n",
        "    - Private: Indicated by double underscores __, meant to be accessed only within the class.\n",
        "  - Getter and Setter Methods:\n",
        "Controlled access to private attributes is provided using methods:\n",
        "   - Getters: Retrieve the value of an attribute.\n",
        "   - Setters: Update or validate the value of an attribute.\n",
        "- Advantages of Encapsulation\n",
        "  - Data Protection: Prevents unauthorized access or modification of attributes.\n",
        "  - Controlled Access: Enables validation of data before making changes.\n",
        "  - Modularity: Keeps implementation details hidden, enhancing maintainability.\n",
        "  - Reusability: Makes code reusable by defining clear interfaces for interacting with objects."
      ],
      "metadata": {
        "id": "MFXAYfgRiB_N"
      }
    },
    {
      "cell_type": "markdown",
      "source": [
        "9. What is a constructor in Python?\n",
        "- A constructor in Python is a special method used to initialize an object when it is created. The constructor's primary role is to set up the initial state of an object by assigning values to its attributes or performing any setup tasks required.\n",
        "\n",
        "- In Python, the constructor method is named __init__ (short for \"initialize\").\n",
        "\n",
        "- Key Features of a Constructor\n",
        "  - Special Method: The __init__ method is called automatically when a new instance of a class is created.\n",
        "  - Initialization: It initializes the object's attributes with default or user-provided values.\n",
        "  - Optional Parameters: It can accept parameters to customize the initialization process.\n",
        "  - One-Time Call: The constructor is called only once when the object is created.\n"
      ],
      "metadata": {
        "id": "9H7aWIvYiqkC"
      }
    },
    {
      "cell_type": "markdown",
      "source": [
        "10. What are class and static methods in Python?\n",
        "- In Python, class methods and static methods are specialized methods that belong to a class rather than its instances. These methods are declared using decorators, and their behavior differs based on how they interact with the class and its objects.\n",
        "- Class Methods\n",
        "  - A class method is a method that is bound to the class and not the instance. It has access to the class itself and can modify class-level attributes.\n",
        "\n",
        "- Key Features\n",
        "  - Declared using the @classmethod decorator.\n",
        "  - Takes the class (cls) as its first parameter, rather than the instance (self).\n",
        "  - Can be called on the class itself or on an instance of the class.\n",
        "- Static Methods\n",
        "  - A static method is a method that does not depend on either the class (cls) or the instance (self). It behaves like a regular function but is defined within the class's namespace for organizational purposes.\n",
        "\n",
        "- Key Features\n",
        "  - Declared using the @staticmethod decorator.\n",
        "  - Does not take self or cls as a parameter.\n",
        "  - Cannot modify the state of the class or instance.\n"
      ],
      "metadata": {
        "id": "K--h9jD4jMj8"
      }
    },
    {
      "cell_type": "markdown",
      "source": [
        "11. What is method overloading in Python?\n",
        "- Method overloading is the ability to define multiple methods in the same class with the same name but different numbers or types of parameters. It allows a method to perform different tasks based on the arguments passed to it.\n",
        "- Strictly speaking, Python does not natively support method overloading like some other programming languages (e.g., Java or C++). In Python:\n",
        "\n",
        "- If two methods with the same name are defined, the latter one overrides the earlier definition.\n",
        "However, you can achieve method overloading using techniques such as default arguments, variable-length arguments (*args and **kwargs), or explicit checks inside the method body.\n",
        "- While Python lacks built-in method overloading, its dynamic and flexible nature allows you to achieve similar functionality using default arguments, variable-length arguments, or conditional checks. This approach aligns with Python's philosophy of simplicity and readability.\n",
        "\n",
        "\n",
        "\n",
        "\n",
        "\n",
        "\n"
      ],
      "metadata": {
        "id": "uyj5nsusj2sI"
      }
    },
    {
      "cell_type": "markdown",
      "source": [
        "12. What is method overriding in OOP?\n",
        "\n",
        "Method overriding is a feature in Object-Oriented Programming (OOP) where a subclass provides a specific implementation of a method that is already defined in its superclass. The overriding method in the subclass must have the same name, return type, and parameters as the method in the superclass.\n",
        "\n",
        "Key Features of Method Overriding\n",
        "Same Method Signature:\n",
        "\n",
        "The method in the subclass must have the same name, arguments, and return type as the method in the superclass.\n",
        "Runtime Polymorphism:\n",
        "\n",
        "Method overriding is an example of runtime polymorphism since the method that gets called is determined at runtime based on the object type.\n",
        "Super Keyword:\n",
        "\n",
        "The super() function can be used to call the superclass's method within the subclass's overriding method.\n",
        "Subclass-Specific Behavior:\n",
        "\n",
        "Allows a subclass to define specific behavior while retaining the interface provided by the superclass.\n",
        "Why Use Method Overriding?\n",
        "To modify or extend the behavior of a superclass method.\n",
        "To implement specific functionality in a subclass that differs from the parent class."
      ],
      "metadata": {
        "id": "VkQKcy6HlzgU"
      }
    },
    {
      "cell_type": "markdown",
      "source": [
        "13. What is a property decorator in Python?\n",
        "\n",
        "The @property decorator in Python is used to define a method as a property, allowing it to be accessed like an attribute. It simplifies getter methods and enables attribute access control without exposing the actual attribute.\n",
        "\n",
        "Key Features\n",
        "Getter: Makes a method behave like an attribute.\n",
        "Setter and Deleter: Used with @property_name.setter and @property_name.deleter to control updates and deletions.\n",
        "Encapsulation: Allows validation or computation while accessing or modifying an attribute.\n",
        "Why Use @property?\n",
        "To provide controlled access to attributes.\n",
        "To add logic (e.g., validation) when getting or setting values without changing the interface.\n",
        "Example Use Case\n",
        "Imagine managing a private _salary attribute. You can define salary as a property to validate or compute values when accessing or updating it. This helps maintain encapsulation while offering a clean interface."
      ],
      "metadata": {
        "id": "U2fLzdMpHd3W"
      }
    },
    {
      "cell_type": "markdown",
      "source": [
        "14. Why is polymorphism important in OOP?\n",
        "\n",
        "Polymorphism is important in OOP because it allows objects of different classes to be treated as objects of a common superclass. This enables the same method or interface to behave differently based on the object’s actual class, improving flexibility and reusability.\n",
        "\n",
        "Benefits of Polymorphism:\n",
        "Code Reusability: You can use the same method name for different classes, reducing redundancy.\n",
        "Flexibility: Code can work with objects of any subclass, allowing easy extension and modification.\n",
        "Maintainability: Polymorphism allows changes in subclass behavior without modifying the parent class or other parts of the code.\n",
        "Decoupling: Reduces the dependency between the code that calls the method and the classes implementing it, making the system more modular.\n"
      ],
      "metadata": {
        "id": "RcZ1nWXTHrS4"
      }
    },
    {
      "cell_type": "markdown",
      "source": [
        "15.  What is an abstract class in Python?\n",
        "\n",
        "An abstract class in Python is a class that cannot be instantiated directly and is meant to be subclassed. It may contain abstract methods (methods without implementation) that must be implemented by any subclass. Abstract classes are defined using the abc module.\n",
        "\n",
        "Key Features:\n",
        "Cannot be instantiated: You cannot create an object of an abstract class directly.\n",
        "Abstract Methods: Methods that are declared but contain no implementation, and must be overridden in subclasses.\n",
        "Provides a Template: Defines a blueprint for subclasses to follow, ensuring consistency in method names and signatures.\n",
        "Why Use Abstract Classes?\n",
        "To enforce a common interface for all subclasses.\n",
        "To define methods that must be implemented by the subclasses."
      ],
      "metadata": {
        "id": "yZ4S4ZV0H0-e"
      }
    },
    {
      "cell_type": "markdown",
      "source": [
        "16.  What are the advantages of OOP?\n",
        "Modularity: OOP allows you to break down complex systems into smaller, manageable objects, making code more organized and easier to maintain.\n",
        "\n",
        "Reusability: Through inheritance and polymorphism, existing code can be reused, reducing redundancy and speeding up development.\n",
        "\n",
        "Scalability: OOP systems can be easily scaled by adding new classes and methods, making it easier to extend functionality.\n",
        "\n",
        "Maintainability: Because of encapsulation and modular design, OOP allows for easier bug fixes and updates to specific components without affecting the entire system.\n",
        "\n",
        "Flexibility: Polymorphism allows objects of different classes to be treated as instances of a common superclass, making it easier to implement varied behaviors under a unified interface.\n",
        "\n",
        "Security: Encapsulation helps in protecting the data by restricting direct access to attributes and exposing only necessary methods.\n",
        "\n",
        "Real-World Modeling: OOP closely mimics real-world entities, making it easier to model complex systems."
      ],
      "metadata": {
        "id": "pptO9kQ4H-Xu"
      }
    },
    {
      "cell_type": "markdown",
      "source": [
        "17. What is the difference between a class variable and an instance variable?\n",
        "\n",
        "A class variable is a variable that is shared among all instances of a class. It is defined within the class and is accessed using the class name or any instance of the class. Since class variables are shared, any modification to them affects all instances. They are allocated once for the class and not duplicated for each object.\n",
        "\n",
        "On the other hand, an instance variable is specific to a particular instance of the class. Each object created from the class has its own copy of the instance variables, and changes made to them only affect that instance. Instance variables are allocated separately for each object and can only be accessed through an instance of the class."
      ],
      "metadata": {
        "id": "YB_wxWs7IH40"
      }
    },
    {
      "cell_type": "markdown",
      "source": [
        "18. What is multiple inheritance in Python?\n",
        "\n",
        "Multiple inheritance in Python is a feature that allows a class to inherit attributes and methods from more than one parent class. This enables a subclass to combine behavior from multiple classes, promoting code reuse and flexibility.\n",
        "\n",
        "Key Features:\n",
        "Inheritance from Multiple Classes: A subclass can inherit from multiple classes, making it possible to use features from all parent classes.\n",
        "Method Resolution Order (MRO): Python uses MRO to determine the order in which methods are inherited from the parent classes. This is important in cases of method conflicts.\n",
        "Why Use Multiple Inheritance?\n",
        "To combine functionality from different classes.\n",
        "To avoid code duplication by inheriting features from multiple parent classes.\n",
        "Example:\n",
        "A class can inherit from more than one parent class to combine their behaviors.\n"
      ],
      "metadata": {
        "id": "ENQlN3xVIa41"
      }
    },
    {
      "cell_type": "markdown",
      "source": [
        "19. Explain the purpose of ‘’__str__’ and ‘__repr__’ ‘ methods in Python.\n",
        "__str__ Method:\n",
        "\n",
        "The __str__ method is used to define a human-readable string representation of an object. It is called when you use print() or str() on an object.\n",
        "Its goal is to provide a readable or user-friendly string that gives an idea of the object’s state in a clear way.\n",
        "Use Case: For displaying object information to end users.\n",
        "__repr__ Method:\n",
        "\n",
        "The __repr__ method is used to define a more formal or unambiguous string representation of an object. It is called when you use repr() or when an object is printed in the interpreter.\n",
        "Its goal is to provide a string that, ideally, could be used to recreate the object (if possible) or at least represent it clearly for debugging.\n",
        "Use Case: For debugging and logging, providing a precise and informative string.\n",
        "Difference:\n",
        "__str__: Aimed at the user for readability.\n",
        "__repr__: Aimed at developers for precise object representation."
      ],
      "metadata": {
        "id": "rmzgcjK9Il3X"
      }
    },
    {
      "cell_type": "markdown",
      "source": [
        "20. What is the significance of the ‘super()’ function in Python?\n",
        "\n",
        "The super() function in Python is used to call methods from a superclass (parent class) from within a subclass (child class). It provides a way to access inherited methods and attributes, especially in cases of method overriding, without explicitly naming the parent class.\n",
        "\n",
        "Key Purposes of super():\n",
        "Access Parent Class Methods: It allows you to call methods from a superclass, including methods that have been overridden in the child class.\n",
        "Method Resolution Order (MRO): It helps maintain the correct order of method calls in the inheritance hierarchy, particularly in multiple inheritance situations.\n",
        "Code Reusability: It allows you to reuse functionality from the parent class without repeating the code.\n",
        "Avoid Hardcoding Parent Class: Instead of explicitly naming the parent class, super() allows for more flexible and maintainable code, especially when using multiple inheritance.\n",
        "Example:\n",
        "In a subclass, super() can be used to call a method from the superclass and extend or modify its behavior without overriding it completely."
      ],
      "metadata": {
        "id": "odYouYhwIxNO"
      }
    },
    {
      "cell_type": "markdown",
      "source": [
        "21. What is the significance of the __del__ method in Python?\n",
        "\n",
        "The __del__ method in Python is a special method that acts as a destructor. It is called when an object is about to be destroyed, i.e., when it is garbage collected. The __del__ method allows you to define any cleanup operations, such as releasing resources, closing files, or network connections, that need to occur before the object is removed from memory.\n",
        "\n",
        "Key Points:\n",
        "Object Cleanup: It provides a way to perform final actions (like releasing resources) when an object is no longer needed.\n",
        "Automatic Invocation: The method is automatically invoked when the object's reference count reaches zero, or the object goes out of scope.\n",
        "Caution with Resource Management: Since Python uses automatic memory management (garbage collection), relying solely on __del__ for critical resource management is not always reliable, especially with cyclic references."
      ],
      "metadata": {
        "id": "wiHw8rKbI-Bz"
      }
    },
    {
      "cell_type": "markdown",
      "source": [
        "22. What is the difference between @staticmethod and @classmethod in Python?\n",
        "\n",
        "@staticmethod:\n",
        "\n",
        "A static method doesn't take any special first argument (like self or cls). It behaves like a regular function but belongs to the class's namespace.\n",
        "It can be called on the class itself or on an instance.\n",
        "It doesn't have access to the instance (self) or class (cls) unless explicitly passed as arguments.\n",
        "Use Case: To define utility functions that are related to the class but do not need access to the class or instance data.\n",
        "\n",
        "@classmethod:\n",
        "\n",
        "A class method takes cls (the class itself) as the first argument. It can modify class state that applies across all instances of the class.\n",
        "It can be called on the class itself or on an instance.\n",
        "Use Case: To define methods that affect the class itself (e.g., modifying class variables), not just individual instances.\n",
        "\n",
        "Key Differences:\n",
        "@staticmethod: Doesn't require a reference to the class or instance.\n",
        "@classmethod: Takes a reference to the class (cls) as its first parameter and can modify class-level data.\n"
      ],
      "metadata": {
        "id": "3-ejofcpJK98"
      }
    },
    {
      "cell_type": "markdown",
      "source": [
        "23. How does polymorphism work in Python with inheritance?\n",
        "\n",
        "Polymorphism in Python, particularly with inheritance, allows objects of different classes to be treated as objects of a common superclass. This enables a method to behave differently based on the object that calls it. In inheritance, polymorphism allows a subclass to provide its specific implementation of a method defined in a superclass.\n",
        "\n",
        "How It Works:\n",
        "Method Overriding: A subclass can override a method from its parent class, providing its own implementation. Even though the method has the same name in both classes, its behavior can vary based on the subclass.\n",
        "\n",
        "Dynamic Method Dispatch: When you call a method on an object, Python dynamically determines which method to call based on the actual class of the object (not the type of reference). This is known as runtime polymorphism.\n",
        "\n",
        "Same Method Name: Different classes can define the same method, but each class provides its own behavior.\n",
        "Inheritance: Subclasses inherit the method signature from the parent class but can override the method to customize its behavior.\n",
        "Dynamic Binding: The method that gets executed depends on the actual object type at runtime, not the reference type.\n",
        "Benefits of Polymorphism:\n",
        "Simplifies code by allowing you to treat different types of objects in a unified way.\n",
        "Makes it easier to extend functionality by adding new subclasses without modifying existing code.\n",
        "\n",
        "\n",
        "\n",
        "\n",
        "\n",
        "\n"
      ],
      "metadata": {
        "id": "m5YBPY7DJXwK"
      }
    },
    {
      "cell_type": "markdown",
      "source": [
        "24. What is method chaining in Python OOP?\n",
        "\n",
        "Method chaining in Python is a technique where multiple methods are called on the same object in a single line of code. Each method returns the object itself (usually self), allowing for consecutive method calls on the same instance.\n",
        "\n",
        "How It Works:\n",
        "A method returns the object (self) after performing its task, which allows the next method to be called on the same object.\n",
        "This is commonly used for modifying an object's attributes in a fluent style or when performing multiple operations on an object sequentially.\n",
        "\n",
        "Benefits of Method Chaining:\n",
        "Concise Code: Allows writing cleaner, more readable code by combining multiple method calls.\n",
        "Fluent Interface: Provides a fluent, readable way to interact with objects in a sequence of operations.\n",
        "Improved Usability: Makes it easier to work with objects by reducing the need for intermediate steps."
      ],
      "metadata": {
        "id": "askDkTBbJnvv"
      }
    },
    {
      "cell_type": "markdown",
      "source": [
        "25. What is the purpose of the __call__ method in Python?\n",
        "\n",
        "The __call__ method in Python is a special method that allows an instance of a class to be called as if it were a function. When you define this method in a class, you can use instances of that class like functions, enabling them to execute custom behavior upon being called.\n",
        "\n",
        "How It Works:\n",
        "When you use parentheses () on an instance (e.g., object()), Python invokes the __call__ method of that object.\n",
        "It can accept any arguments passed during the call and perform any defined operations.\n",
        "Use Case:\n",
        "Callable Objects: When you need objects that can be invoked with arguments and return values, making the object behave like a function.\n",
        "Encapsulation of Behavior: It allows encapsulating behavior in an object and invoking it with the same syntax as calling a function.\n",
        "\n",
        "Benefits:\n",
        "Flexibility: Allows objects to have callable behavior, adding flexibility to how they are used.\n",
        "Simplicity: It can simplify code by enabling function-like behavior in objects."
      ],
      "metadata": {
        "id": "iwbhmmGBJ2Jj"
      }
    },
    {
      "cell_type": "markdown",
      "source": [
        "### Practical Questions"
      ],
      "metadata": {
        "id": "lRp6Bj-YKD8n"
      }
    },
    {
      "cell_type": "code",
      "execution_count": 1,
      "metadata": {
        "colab": {
          "base_uri": "https://localhost:8080/"
        },
        "id": "J15KiR6d7csh",
        "outputId": "4e5fa1d5-9a87-4950-9367-84581a9a2fb5"
      },
      "outputs": [
        {
          "output_type": "stream",
          "name": "stdout",
          "text": [
            "Generic animal sound\n",
            "Bark!\n"
          ]
        }
      ],
      "source": [
        "# 1.  Create a parent class Animal with a method speak() that prints a generic message. Create a child class Dog that overrides the speak() method to print \"Bark!\".\n",
        "\n",
        "# Parent class\n",
        "class Animal:\n",
        "    def speak(self):\n",
        "        print(\"Generic animal sound\")\n",
        "\n",
        "# Child class\n",
        "class Dog(Animal):\n",
        "    def speak(self):\n",
        "        print(\"Bark!\")\n",
        "\n"
      ]
    },
    {
      "cell_type": "code",
      "source": [
        "# 2. Write a program to create an abstract class Shape with a method area(). Derive classes Circle and Rectangle from it and implement the area() method in both.\n",
        "\n",
        "from abc import ABC, abstractmethod\n",
        "import math\n",
        "\n",
        "# Abstract class\n",
        "class Shape(ABC):\n",
        "    @abstractmethod\n",
        "    def area(self):\n",
        "        pass\n",
        "\n",
        "# Derived class for Circle\n",
        "class Circle(Shape):\n",
        "    def __init__(self, radius):\n",
        "        self.radius = radius\n",
        "\n",
        "    def area(self):\n",
        "        return math.pi * self.radius ** 2\n",
        "\n",
        "# Derived class for Rectangle\n",
        "class Rectangle(Shape):\n",
        "    def __init__(self, width, height):\n",
        "        self.width = width\n",
        "        self.height = height\n",
        "\n",
        "    def area(self):\n",
        "        return self.width * self.height\n",
        "\n"
      ],
      "metadata": {
        "id": "C-zVoDgjKUqL"
      },
      "execution_count": null,
      "outputs": []
    },
    {
      "cell_type": "code",
      "source": [
        "# 3.  Implement a multi-level inheritance scenario where a class Vehicle has an attribute type. Derive a class Car and further derive a class ElectricCar that adds a battery attribute.\n",
        "\n",
        "# Base class Vehicle\n",
        "class Vehicle:\n",
        "    def __init__(self, type):\n",
        "        self.type = type\n",
        "\n",
        "    def display_type(self):\n",
        "        print(f\"Vehicle Type: {self.type}\")\n",
        "\n",
        "# Derived class Car from Vehicle\n",
        "class Car(Vehicle):\n",
        "    def __init__(self, type, brand):\n",
        "        super().__init__(type)\n",
        "        self.brand = brand\n",
        "\n",
        "    def display_car_info(self):\n",
        "        print(f\"Car Brand: {self.brand}\")\n",
        "\n",
        "# Further derived class ElectricCar from Car\n",
        "class ElectricCar(Car):\n",
        "    def __init__(self, type, brand, battery):\n",
        "        super().__init__(type, brand)\n",
        "        self.battery = battery\n",
        "\n",
        "    def display_battery_info(self):\n",
        "        print(f\"Battery Capacity: {self.battery} kWh\")\n"
      ],
      "metadata": {
        "colab": {
          "base_uri": "https://localhost:8080/"
        },
        "id": "rx6PetkmLA5W",
        "outputId": "1cb93523-914c-4e79-b1a5-f940416faa68"
      },
      "execution_count": 2,
      "outputs": [
        {
          "output_type": "stream",
          "name": "stdout",
          "text": [
            "Vehicle Type: General Vehicle\n",
            "Vehicle Type: Car\n",
            "Car Brand: Toyota\n",
            "Vehicle Type: Electric Car\n",
            "Car Brand: Tesla\n",
            "Battery Capacity: 75 kWh\n"
          ]
        }
      ]
    },
    {
      "cell_type": "code",
      "source": [
        "# 4.  Implement a multi-level inheritance scenario where a class Vehicle has an attribute type. Derive a class Car and further derive a class ElectricCar that adds a battery attribute.\n",
        "\n",
        "# Base class Vehicle\n",
        "class Vehicle:\n",
        "    def __init__(self, type):\n",
        "        self.type = type  # Attribute representing the type of vehicle\n",
        "\n",
        "    def display_type(self):\n",
        "        print(f\"Vehicle Type: {self.type}\")\n",
        "\n",
        "# Derived class Car from Vehicle\n",
        "class Car(Vehicle):\n",
        "    def __init__(self, type, brand):\n",
        "        super().__init__(type)  # Initialize the type from the Vehicle class\n",
        "        self.brand = brand  # Additional attribute for the car's brand\n",
        "\n",
        "    def display_car_info(self):\n",
        "        print(f\"Car Brand: {self.brand}\")\n",
        "\n",
        "# Further derived class ElectricCar from Car\n",
        "class ElectricCar(Car):\n",
        "    def __init__(self, type, brand, battery):\n",
        "        super().__init__(type, brand)  # Initialize the type and brand from the Car class\n",
        "        self.battery = battery  # Additional attribute for battery capacity\n",
        "\n",
        "    def display_battery_info(self):\n",
        "        print(f\"Battery Capacity: {self.battery} kWh\")\n",
        "\n"
      ],
      "metadata": {
        "id": "WFcW-cqiLXLH"
      },
      "execution_count": null,
      "outputs": []
    },
    {
      "cell_type": "code",
      "source": [
        "# 5.  Write a program to demonstrate encapsulation by creating a class BankAccount with private attributes balance and methods to deposit, withdraw, and check balance\n",
        "\n",
        "class BankAccount:\n",
        "    def __init__(self, initial_balance=0):\n",
        "        self.__balance = initial_balance  # Private attribute\n",
        "\n",
        "    # Method to deposit money into the account\n",
        "    def deposit(self, amount):\n",
        "        if amount > 0:\n",
        "            self.__balance += amount\n",
        "            print(f\"Deposited: {amount}\")\n",
        "        else:\n",
        "            print(\"Deposit amount must be positive.\")\n",
        "\n",
        "    # Method to withdraw money from the account\n",
        "    def withdraw(self, amount):\n",
        "        if amount > 0 and amount <= self.__balance:\n",
        "            self.__balance -= amount\n",
        "            print(f\"Withdrawn: {amount}\")\n",
        "        else:\n",
        "            print(\"Invalid withdrawal amount or insufficient balance.\")\n",
        "\n",
        "    # Method to check the balance\n",
        "    def check_balance(self):\n",
        "        return f\"Current Balance: {self.__balance}\"\n",
        "\n"
      ],
      "metadata": {
        "id": "wEkP1XX5LUUS"
      },
      "execution_count": null,
      "outputs": []
    },
    {
      "cell_type": "code",
      "source": [
        "# 6. Demonstrate runtime polymorphism using a method play() in a base class Instrument. Derive classes Guitar and Piano that implement their own version of play().\n",
        "\n",
        "class Instrument:\n",
        "    def play(self):\n",
        "        print(\"Generic instrument sound\")\n",
        "\n",
        "class Guitar(Instrument):\n",
        "    def play(self):\n",
        "        print(\"Guitar sound\")\n",
        "\n",
        "class Piano(Instrument):\n",
        "    def play(self):\n",
        "        print(\"Piano sound\")"
      ],
      "metadata": {
        "id": "vGuNRORZLwtJ"
      },
      "execution_count": null,
      "outputs": []
    },
    {
      "cell_type": "code",
      "source": [
        "# 7.  Create a class MathOperations with a class method add_numbers() to add two numbers and a static method subtract_numbers() to subtract two numbers.\n",
        "\n",
        "class MathOperations:\n",
        "    @classmethod\n",
        "    def add_numbers(cls, a, b):\n",
        "        return a + b\n",
        "\n",
        "    @staticmethod\n",
        "    def subtract_numbers(a, b):\n",
        "        return a - b"
      ],
      "metadata": {
        "id": "VBlbOCxOLwpp"
      },
      "execution_count": null,
      "outputs": []
    },
    {
      "cell_type": "code",
      "source": [
        "# 8.  Implement a class Person with a class method to count the total number of persons created\n",
        "\n",
        "class Person:\n",
        "    count = 0  # Class variable to keep track of the total number of persons\n",
        "\n",
        "    def __init__(self):\n",
        "        Person.count += 1  # Increment the count when a new person is created"
      ],
      "metadata": {
        "id": "xDA83JANLwnO"
      },
      "execution_count": null,
      "outputs": []
    },
    {
      "cell_type": "code",
      "source": [
        "# 9. Write a class Fraction with attributes numerator and denominator. Override the str method to display the fraction as \"numerator/denominator\".\n",
        "\n",
        "class Fraction:\n",
        "    def __init__(self, numerator, denominator):\n",
        "        self.numerator = numerator\n",
        "        self.denominator = denominator\n",
        "\n",
        "    # Overriding the __str__ method to display the fraction\n",
        "    def __str__(self):\n",
        "        return f\"{self.numerator}/{self.denominator}\"\n"
      ],
      "metadata": {
        "id": "uulQziOcLwcM"
      },
      "execution_count": null,
      "outputs": []
    },
    {
      "cell_type": "code",
      "source": [
        "# 10. Demonstrate operator overloading by creating a class Vector and overriding the add method to add two vectors\n",
        "\n",
        "class Vector:\n",
        "    def __init__(self, x, y):\n",
        "        self.x = x\n",
        "        self.y = y\n",
        "\n",
        "    # Overloading the + operator using __add__ method\n",
        "    def __add__(self, other):\n",
        "        # Adding corresponding components of the two vectors\n",
        "        return Vector(self.x + other.x, self.y + other.y)\n",
        "\n",
        "    # Method to display the vector as a tuple (x, y)\n",
        "    def __str__(self):\n",
        "        return f\"({self.x}, {self.y})\"\n"
      ],
      "metadata": {
        "id": "hfgoxU88MuFz"
      },
      "execution_count": 4,
      "outputs": []
    },
    {
      "cell_type": "code",
      "source": [
        "# 11.  Create a class Person with attributes name and age. Add a method greet() that prints \"Hello, my name is {name} and I am {age} years old.\n",
        "\n",
        "class Person:\n",
        "    def __init__(self, name, age):\n",
        "        self.name = name\n",
        "        self.age = age\n",
        "\n",
        "    def greet(self):\n",
        "        print(f\"Hello, my name is {self.name} and I am {self.age} years old.\")\n",
        "\n"
      ],
      "metadata": {
        "id": "79pIBzAJM-r6"
      },
      "execution_count": 5,
      "outputs": []
    },
    {
      "cell_type": "code",
      "source": [
        "# 12. Implement a class Student with attributes name and grades. Create a method average_grade() to compute the average of the grades.\n",
        "\n",
        "class Student:\n",
        "    def __init__(self, name, grades):\n",
        "        self.name = name\n",
        "        self.grades = grades  # A list of grades\n",
        "\n",
        "    def average_grade(self):\n",
        "        # Compute the average of the grades\n",
        "        if self.grades:\n",
        "            return sum(self.grades) / len(self.grades)\n",
        "        else:\n",
        "            return 0  # Return 0 if there are no grades\n",
        "\n",
        "\n"
      ],
      "metadata": {
        "id": "Z10OzG5WNS0C"
      },
      "execution_count": 6,
      "outputs": []
    },
    {
      "cell_type": "code",
      "source": [
        "# 13. Create a class Rectangle with methods set_dimensions() to set the dimensions and area() to calculate the area.\n",
        "\n",
        "class Rectangle:\n",
        "    def __init__(self):\n",
        "        self.length = 0\n",
        "        self.width = 0\n",
        "\n",
        "    # Method to set the dimensions of the rectangle\n",
        "    def set_dimensions(self, length, width):\n",
        "        self.length = length\n",
        "        self.width = width\n",
        "\n",
        "    # Method to calculate the area of the rectangle\n",
        "    def area(self):\n",
        "        return self.length * self.width\n"
      ],
      "metadata": {
        "id": "guO5Jn4UNiaH"
      },
      "execution_count": 7,
      "outputs": []
    },
    {
      "cell_type": "code",
      "source": [
        "# 14.  Create a class Employee with a method calculate_salary() that computes the salary based on hours worked and hourly rate. Create a derived class Manager that adds a bonus to the salary.\n",
        "\n",
        "# Base class Employee\n",
        "class Employee:\n",
        "    def __init__(self, name, hours_worked, hourly_rate):\n",
        "        self.name = name\n",
        "        self.hours_worked = hours_worked\n",
        "        self.hourly_rate = hourly_rate\n",
        "\n",
        "    def calculate_salary(self):\n",
        "        # Calculate salary based on hours worked and hourly rate\n",
        "        return self.hours_worked * self.hourly_rate\n",
        "\n",
        "# Derived class Manager from Employee\n",
        "class Manager(Employee):\n",
        "    def __init__(self, name, hours_worked, hourly_rate, bonus):\n",
        "        super().__init__(name, hours_worked, hourly_rate)\n",
        "        self.bonus = bonus\n",
        "\n",
        "    def calculate_salary(self):\n",
        "        # Calculate salary and add bonus for the manager\n",
        "        base_salary = super().calculate_salary()\n",
        "        return base_salary + self.bonus\n",
        "\n",
        "# Usage\n",
        "employee = Employee(\"John\", 160, 25)  # 160 hours worked at $25/hour\n",
        "print(f\"Employee Salary: {employee.calculate_salary()}\")  # Output: Employee Salary: 4000\n",
        "\n",
        "manager = Manager(\"Alice\", 160, 30, 500)  # 160 hours worked at $30/hour + $500 bonus\n",
        "print(f\"Manager Salary: {manager.calculate_salary()}\")  # Output: Manager Salary: 5300\n"
      ],
      "metadata": {
        "colab": {
          "base_uri": "https://localhost:8080/"
        },
        "id": "GVXVjKAbN4tn",
        "outputId": "194b7178-b782-4dbb-86cd-8590cb6c595f"
      },
      "execution_count": 8,
      "outputs": [
        {
          "output_type": "stream",
          "name": "stdout",
          "text": [
            "Employee Salary: 4000\n",
            "Manager Salary: 5300\n"
          ]
        }
      ]
    },
    {
      "cell_type": "code",
      "source": [
        "# 15.  Create a class Product with attributes name, price, and quantity. Implement a method total_price() that calculates the total price of the product.\n",
        "\n",
        "class Product:\n",
        "    def __init__(self, name, price, quantity):\n",
        "        self.name = name\n",
        "        self.price = price\n",
        "        self.quantity = quantity\n",
        "\n",
        "    def total_price(self):\n",
        "        # Calculate total price as price * quantity\n",
        "        return self.price * self.quantity\n",
        "\n",
        "# Usage\n",
        "product = Product(\"Laptop\", 1000, 3)  # Price: 1000, Quantity: 3\n",
        "print(f\"Total price of {product.name}: {product.total_price()}\")  # Output: Total price of Laptop: 3000\n"
      ],
      "metadata": {
        "colab": {
          "base_uri": "https://localhost:8080/"
        },
        "id": "Y3D2OYxaOOxj",
        "outputId": "8e7691a3-62e6-43d6-96ff-ca6628d85082"
      },
      "execution_count": 9,
      "outputs": [
        {
          "output_type": "stream",
          "name": "stdout",
          "text": [
            "Total price of Laptop: 3000\n"
          ]
        }
      ]
    },
    {
      "cell_type": "code",
      "source": [
        "# 16. Create a class Animal with an abstract method sound(). Create two derived classes Cow and Sheep that implement the sound() method.\n",
        "\n",
        "from abc import ABC, abstractmethod\n",
        "\n",
        "# Abstract base class Animal\n",
        "class Animal(ABC):\n",
        "    @abstractmethod\n",
        "    def sound(self):\n",
        "        pass\n",
        "\n",
        "# Derived class Cow\n",
        "class Cow(Animal):\n",
        "    def sound(self):\n",
        "        return \"Moo\"\n",
        "\n",
        "# Derived class Sheep\n",
        "class Sheep(Animal):\n",
        "    def sound(self):\n",
        "        return \"Baa\"\n",
        "\n",
        "# Usage\n",
        "cow = Cow()\n",
        "sheep = Sheep()\n",
        "\n",
        "print(f\"Cow sound: {cow.sound()}\")  # Output: Cow sound: Moo\n",
        "print(f\"Sheep sound: {sheep.sound()}\")  # Output: Sheep sound: Baa\n"
      ],
      "metadata": {
        "colab": {
          "base_uri": "https://localhost:8080/"
        },
        "id": "zvcqD6_OOakJ",
        "outputId": "0db02170-a311-42f8-cc1c-177473959080"
      },
      "execution_count": 10,
      "outputs": [
        {
          "output_type": "stream",
          "name": "stdout",
          "text": [
            "Cow sound: Moo\n",
            "Sheep sound: Baa\n"
          ]
        }
      ]
    },
    {
      "cell_type": "code",
      "source": [
        "# 17. Create a class Book with attributes title, author, and year_published. Add a method get_book_info() that returns a formatted string with the book's details\n",
        "\n",
        "class Book:\n",
        "    def __init__(self, title, author, year_published):\n",
        "        self.title = title\n",
        "        self.author = author\n",
        "        self.year_published = year_published\n",
        "\n",
        "    def get_book_info(self):\n",
        "        # Return a formatted string with the book details\n",
        "        return f\"Title: {self.title}\\nAuthor: {self.author}\\nYear Published: {self.year_published}\"\n",
        "\n",
        "# Usage\n",
        "book = Book(\"To Kill a Mockingbird\", \"Harper Lee\", 1960)\n",
        "print(book.get_book_info())\n"
      ],
      "metadata": {
        "colab": {
          "base_uri": "https://localhost:8080/"
        },
        "id": "5InT415-Ontd",
        "outputId": "5c1c90f6-8c3c-42d5-8d0e-813bb336b8c6"
      },
      "execution_count": 11,
      "outputs": [
        {
          "output_type": "stream",
          "name": "stdout",
          "text": [
            "Title: To Kill a Mockingbird\n",
            "Author: Harper Lee\n",
            "Year Published: 1960\n"
          ]
        }
      ]
    },
    {
      "cell_type": "code",
      "source": [
        "# 18.  Create a class House with attributes address and price. Create a derived class Mansion that adds an attribute number_of_rooms.\n",
        "\n",
        "# Base class House\n",
        "class House:\n",
        "    def __init__(self, address, price):\n",
        "        self.address = address\n",
        "        self.price = price\n",
        "\n",
        "# Derived class Mansion from House\n",
        "class Mansion(House):\n",
        "    def __init__(self, address, price, number_of_rooms):\n",
        "        super().__init__(address, price)  # Initialize base class attributes\n",
        "        self.number_of_rooms = number_of_rooms\n",
        "\n",
        "# Usage\n",
        "house = House(\"123 Gandhi street\", 250000)\n",
        "mansion = Mansion(\"456 Opal Gardens\", 5000000, 10)\n",
        "\n",
        "print(f\"House Address: {house.address}, Price: {house.price}\")\n",
        "print(f\"Mansion Address: {mansion.address}, Price: {mansion.price}, Rooms: {mansion.number_of_rooms}\")\n"
      ],
      "metadata": {
        "colab": {
          "base_uri": "https://localhost:8080/"
        },
        "id": "c_GS2WmzOxnM",
        "outputId": "9addc5e2-a9da-432a-d6df-3aaefdf6aed3"
      },
      "execution_count": 13,
      "outputs": [
        {
          "output_type": "stream",
          "name": "stdout",
          "text": [
            "House Address: 123 Gandhi street, Price: 250000\n",
            "Mansion Address: 456 Opal Gardens, Price: 5000000, Rooms: 10\n"
          ]
        }
      ]
    },
    {
      "cell_type": "code",
      "source": [],
      "metadata": {
        "id": "FTqByoAtPOC9"
      },
      "execution_count": null,
      "outputs": []
    }
  ]
}